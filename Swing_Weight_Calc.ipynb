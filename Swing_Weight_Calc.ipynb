{
 "cells": [
  {
   "cell_type": "code",
   "execution_count": 1,
   "metadata": {},
   "outputs": [
    {
     "name": "stdout",
     "output_type": "stream",
     "text": [
      "Root Mean Squared Error (RMSE): 1.2333617953542446\n",
      "R-squared (R2) Score: 0.834247378328918\n"
     ]
    }
   ],
   "source": [
    "import pandas as pd\n",
    "import numpy as np\n",
    "from sklearn.model_selection import train_test_split\n",
    "from sklearn.preprocessing import StandardScaler\n",
    "from sklearn.linear_model import LinearRegression\n",
    "from sklearn.ensemble import RandomForestRegressor\n",
    "from sklearn.metrics import mean_absolute_error, mean_squared_error, r2_score\n",
    "\n",
    "# Load your dataset\n",
    "# Replace 'your_dataset.csv' with the path to your dataset file\n",
    "data = pd.read_csv('Swing Weight Calculator.csv')\n",
    "\n",
    "# Data Preprocessing\n",
    "\n",
    "# Split the dataset into features (X) and the target variable (y)\n",
    "X = data[['Weight', 'Balance']]\n",
    "y = data['Swing Weight']\n",
    "\n",
    "# Split the data into training and testing sets (80% train, 20% test)\n",
    "X_train, X_test, y_train, y_test = train_test_split(X, y, test_size=0.2, random_state=42)\n",
    "\n",
    "# Initialize the Linear Regression model\n",
    "model = LinearRegression()\n",
    "\n",
    "# Train the model on the training data\n",
    "model.fit(X_train, y_train)\n",
    "\n",
    "# Predict swing weights on the test data\n",
    "y_pred = model.predict(X_test)\n",
    "\n",
    "# Evaluate the model using Root Mean Squared Error (RMSE) and R-squared (R2) score\n",
    "rmse = np.sqrt(mean_squared_error(y_test, y_pred))\n",
    "r2 = r2_score(y_test, y_pred)\n",
    "\n",
    "print(\"Root Mean Squared Error (RMSE):\", rmse)\n",
    "print(\"R-squared (R2) Score:\", r2)"
   ]
  },
  {
   "cell_type": "code",
   "execution_count": 2,
   "metadata": {},
   "outputs": [
    {
     "name": "stdout",
     "output_type": "stream",
     "text": [
      "Swing Weight Prediction: 86.68\n",
      "Swing Weight Prediction (Rounded): 86.5\n"
     ]
    }
   ],
   "source": [
    "# Define new input data for prediction\n",
    "new_data = pd.DataFrame({'Weight': [86.7], 'Balance': [295]})\n",
    "\n",
    "# Use the trained model to make predictions on the new data\n",
    "predicted_swing_weights = model.predict(new_data)\n",
    "\n",
    "# Print the predicted swing weights\n",
    "for i, pred in enumerate(predicted_swing_weights):\n",
    "    print(f\"Swing Weight Prediction: {pred:.2f}\")\n",
    "\n",
    "# Round the predicted swing weights to the nearest 0.5\n",
    "rounded_predicted_swing_weights = np.round(predicted_swing_weights * 2) / 2\n",
    "\n",
    "# Print the rounded predicted swing weights\n",
    "for i, pred in enumerate(rounded_predicted_swing_weights):\n",
    "    print(f\"Swing Weight Prediction (Rounded): {pred:.1f}\")"
   ]
  },
  {
   "cell_type": "code",
   "execution_count": 3,
   "metadata": {},
   "outputs": [
    {
     "name": "stdout",
     "output_type": "stream",
     "text": [
      "Balance - Great For All Around / Hybrid Player\n"
     ]
    }
   ],
   "source": [
    "def describe_swing_weight(swing_weight):\n",
    "    if swing_weight > 89:\n",
    "        return 'Head Heavy - Great For Power / Attacking Player'\n",
    "    elif 83 < swing_weight <= 89:\n",
    "        return 'Balance - Great For All Around / Hybrid Player'\n",
    "    else:\n",
    "        return 'Head Light - Great For Speed / Defensive Player'\n",
    "\n",
    "# Menggunakan hasil yang sudah di-round\n",
    "for i, pred in enumerate(rounded_predicted_swing_weights):\n",
    "    description = describe_swing_weight(pred)\n",
    "    print(description)"
   ]
  },
  {
   "cell_type": "code",
   "execution_count": 4,
   "metadata": {},
   "outputs": [],
   "source": [
    "import pickle"
   ]
  },
  {
   "cell_type": "code",
   "execution_count": 5,
   "metadata": {},
   "outputs": [],
   "source": [
    "filename = 'swing_model.sav'\n",
    "pickle.dump(model, open(filename,'wb'))"
   ]
  }
 ],
 "metadata": {
  "kernelspec": {
   "display_name": "gpu2",
   "language": "python",
   "name": "python3"
  },
  "language_info": {
   "codemirror_mode": {
    "name": "ipython",
    "version": 3
   },
   "file_extension": ".py",
   "mimetype": "text/x-python",
   "name": "python",
   "nbconvert_exporter": "python",
   "pygments_lexer": "ipython3",
   "version": "3.6.13"
  },
  "orig_nbformat": 4
 },
 "nbformat": 4,
 "nbformat_minor": 2
}
