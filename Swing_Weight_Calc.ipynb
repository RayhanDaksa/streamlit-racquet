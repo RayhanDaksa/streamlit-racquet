{
 "cells": [
  {
   "cell_type": "code",
   "execution_count": 1,
   "metadata": {},
   "outputs": [
    {
     "name": "stdout",
     "output_type": "stream",
     "text": [
      "Root Mean Squared Error (RMSE): 1.0461643398859604\n",
      "R-squared (R2) Score: 0.8872119518862445\n"
     ]
    },
    {
     "data": {
      "image/png": "[encoded data removed]",
      "text/plain": [
       "<Figure size 432x288 with 1 Axes>"
      ]
     },
     "metadata": {
      "needs_background": "light"
     },
     "output_type": "display_data"
    }
   ],
   "source": [
    "import pandas as pd\n",
    "import numpy as np\n",
    "from sklearn.model_selection import train_test_split\n",
    "from sklearn.linear_model import LinearRegression\n",
    "from sklearn.metrics import mean_squared_error, r2_score\n",
    "import matplotlib.pyplot as plt\n",
    "\n",
    "\n",
    "# Load your dataset\n",
    "# Replace 'your_dataset.csv' with the path to your dataset file\n",
    "data = pd.read_csv('Swing Weight Calculator.csv')\n",
    "\n",
    "# Data Preprocessing\n",
    "\n",
    "# Split the dataset into features (X) and the target variable (y)\n",
    "X = data[['Weight', 'Balance']]\n",
    "y = data['Swing Weight']\n",
    "\n",
    "# Split the data into training and testing sets (80% train, 20% test)\n",
    "X_train, X_test, y_train, y_test = train_test_split(X, y, test_size=0.2, random_state=42)\n",
    "\n",
    "# Initialize the Linear Regression model\n",
    "model = LinearRegression()\n",
    "\n",
    "# Train the model on the training data\n",
    "model.fit(X_train, y_train)\n",
    "\n",
    "# Predict swing weights on the test data\n",
    "y_pred = model.predict(X_test)\n",
    "\n",
    "# Evaluate the model using Root Mean Squared Error (RMSE) and R-squared (R2) score\n",
    "rmse = np.sqrt(mean_squared_error(y_test, y_pred))\n",
    "r2 = r2_score(y_test, y_pred)\n",
    "\n",
    "print(\"Root Mean Squared Error (RMSE):\", rmse)\n",
    "print(\"R-squared (R2) Score:\", r2)\n",
    "\n",
    "# Visualize the predicted vs. actual swing weights\n",
    "plt.scatter(y_test, y_pred)\n",
    "plt.xlabel(\"Actual Swing Weight\")\n",
    "plt.ylabel(\"Predicted Swing Weight\")\n",
    "plt.title(\"Actual vs. Predicted Swing Weight\")\n",
    "plt.show()"
   ]
  },
  {
   "cell_type": "code",
   "execution_count": 6,
   "metadata": {},
   "outputs": [
    {
     "name": "stdout",
     "output_type": "stream",
     "text": [
      "Swing Weight Prediction: 90.11\n",
      "Swing Weight Prediction (Rounded): 90.0\n"
     ]
    }
   ],
   "source": [
    "# Define new input data for prediction\n",
    "new_data = pd.DataFrame({'Weight': [89], 'Balance': [300]})\n",
    "\n",
    "# Use the trained model to make predictions on the new data\n",
    "predicted_swing_weights = model.predict(new_data)\n",
    "\n",
    "# Print the predicted swing weights\n",
    "for i, pred in enumerate(predicted_swing_weights):\n",
    "    print(f\"Swing Weight Prediction: {pred:.2f}\")\n",
    "\n",
    "# Round the predicted swing weights to the nearest 0.5\n",
    "rounded_predicted_swing_weights = np.round(predicted_swing_weights * 2) / 2\n",
    "\n",
    "# Print the rounded predicted swing weights\n",
    "for i, pred in enumerate(rounded_predicted_swing_weights):\n",
    "    print(f\"Swing Weight Prediction (Rounded): {pred:.1f}\")"
   ]
  },
  {
   "cell_type": "code",
   "execution_count": 7,
   "metadata": {},
   "outputs": [],
   "source": [
    "import pickle"
   ]
  },
  {
   "cell_type": "code",
   "execution_count": 9,
   "metadata": {},
   "outputs": [],
   "source": [
    "filename = 'swing_model.sav'\n",
    "pickle.dump(model, open(filename,'wb'))"
   ]
  },
  {
   "cell_type": "code",
   "execution_count": null,
   "metadata": {},
   "outputs": [],
   "source": []
  }
 ],
 "metadata": {
  "kernelspec": {
   "display_name": "gpu2",
   "language": "python",
   "name": "python3"
  },
  "language_info": {
   "codemirror_mode": {
    "name": "ipython",
    "version": 3
   },
   "file_extension": ".py",
   "mimetype": "text/x-python",
   "name": "python",
   "nbconvert_exporter": "python",
   "pygments_lexer": "ipython3",
   "version": "3.6.13"
  },
  "orig_nbformat": 4
 },
 "nbformat": 4,
 "nbformat_minor": 2
}
